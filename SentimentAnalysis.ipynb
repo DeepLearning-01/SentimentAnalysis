{
 "cells": [
  {
   "cell_type": "markdown",
   "id": "65de6e9b-3087-40c1-8ceb-3d644380381f",
   "metadata": {},
   "source": [
    "# Sentiment Analysis\n",
    "# Spam Message Classifier"
   ]
  },
  {
   "cell_type": "markdown",
   "id": "05263d88-e66f-4864-8e34-c579426762a8",
   "metadata": {},
   "source": [
    "## Importing the required libraries"
   ]
  },
  {
   "cell_type": "code",
   "execution_count": 1,
   "id": "1d2c579f-8530-42e1-8141-3c1373236a97",
   "metadata": {},
   "outputs": [
    {
     "name": "stderr",
     "output_type": "stream",
     "text": [
      "2022-09-11 16:48:19.753927: W tensorflow/stream_executor/platform/default/dso_loader.cc:64] Could not load dynamic library 'libcudart.so.11.0'; dlerror: libcudart.so.11.0: cannot open shared object file: No such file or directory\n",
      "2022-09-11 16:48:19.753963: I tensorflow/stream_executor/cuda/cudart_stub.cc:29] Ignore above cudart dlerror if you do not have a GPU set up on your machine.\n"
     ]
    }
   ],
   "source": [
    "from typing import List\n",
    "import re\n",
    "import pandas as pd\n",
    "import numpy as np\n",
    "import nltk\n",
    "from nltk.corpus import stopwords\n",
    "from nltk.stem import WordNetLemmatizer\n",
    "from sklearn.linear_model import LogisticRegression\n",
    "import tensorflow as tf\n",
    "from tensorflow.keras.layers import Embedding\n",
    "from tensorflow.keras.preprocessing.sequence import pad_sequences\n",
    "from tensorflow.keras.models import Sequential\n",
    "from tensorflow.keras.layers import LSTM\n",
    "from tensorflow.keras.layers import Dense\n",
    "from tensorflow.keras.layers import Dropout\n",
    "import seaborn as sns\n",
    "import matplotlib.pyplot as plt\n",
    "from sklearn.metrics import accuracy_score\n",
    "from sklearn.metrics import classification_report\n",
    "from sklearn.metrics import confusion_matrix\n",
    "from sklearn.metrics import classification_report"
   ]
  },
  {
   "cell_type": "code",
   "execution_count": 2,
   "id": "a761512b-656e-44ae-928d-0d61e1fe401e",
   "metadata": {},
   "outputs": [
    {
     "data": {
      "text/html": [
       "<div>\n",
       "<style scoped>\n",
       "    .dataframe tbody tr th:only-of-type {\n",
       "        vertical-align: middle;\n",
       "    }\n",
       "\n",
       "    .dataframe tbody tr th {\n",
       "        vertical-align: top;\n",
       "    }\n",
       "\n",
       "    .dataframe thead th {\n",
       "        text-align: right;\n",
       "    }\n",
       "</style>\n",
       "<table border=\"1\" class=\"dataframe\">\n",
       "  <thead>\n",
       "    <tr style=\"text-align: right;\">\n",
       "      <th></th>\n",
       "      <th>Category</th>\n",
       "      <th>Message</th>\n",
       "    </tr>\n",
       "  </thead>\n",
       "  <tbody>\n",
       "    <tr>\n",
       "      <th>0</th>\n",
       "      <td>ham</td>\n",
       "      <td>Go until jurong point, crazy.. Available only ...</td>\n",
       "    </tr>\n",
       "    <tr>\n",
       "      <th>1</th>\n",
       "      <td>ham</td>\n",
       "      <td>Ok lar... Joking wif u oni...</td>\n",
       "    </tr>\n",
       "    <tr>\n",
       "      <th>2</th>\n",
       "      <td>spam</td>\n",
       "      <td>Free entry in 2 a wkly comp to win FA Cup fina...</td>\n",
       "    </tr>\n",
       "    <tr>\n",
       "      <th>3</th>\n",
       "      <td>ham</td>\n",
       "      <td>U dun say so early hor... U c already then say...</td>\n",
       "    </tr>\n",
       "    <tr>\n",
       "      <th>4</th>\n",
       "      <td>ham</td>\n",
       "      <td>Nah I don't think he goes to usf, he lives aro...</td>\n",
       "    </tr>\n",
       "  </tbody>\n",
       "</table>\n",
       "</div>"
      ],
      "text/plain": [
       "  Category                                            Message\n",
       "0      ham  Go until jurong point, crazy.. Available only ...\n",
       "1      ham                      Ok lar... Joking wif u oni...\n",
       "2     spam  Free entry in 2 a wkly comp to win FA Cup fina...\n",
       "3      ham  U dun say so early hor... U c already then say...\n",
       "4      ham  Nah I don't think he goes to usf, he lives aro..."
      ]
     },
     "execution_count": 2,
     "metadata": {},
     "output_type": "execute_result"
    }
   ],
   "source": [
    "df = pd.read_csv(\"SPAM text message 20170820 - Data.csv\")\n",
    "df.head()"
   ]
  },
  {
   "cell_type": "markdown",
   "id": "87b5efec-17df-4cb9-9081-98c31a8c6d51",
   "metadata": {},
   "source": [
    "### Basic Stats"
   ]
  },
  {
   "cell_type": "code",
   "execution_count": 3,
   "id": "1a8678a3-b9b4-49e5-b11b-92abbba4fbca",
   "metadata": {},
   "outputs": [
    {
     "name": "stdout",
     "output_type": "stream",
     "text": [
      "<class 'pandas.core.frame.DataFrame'>\n",
      "RangeIndex: 5572 entries, 0 to 5571\n",
      "Data columns (total 2 columns):\n",
      " #   Column    Non-Null Count  Dtype \n",
      "---  ------    --------------  ----- \n",
      " 0   Category  5572 non-null   object\n",
      " 1   Message   5572 non-null   object\n",
      "dtypes: object(2)\n",
      "memory usage: 87.2+ KB\n"
     ]
    }
   ],
   "source": [
    "df.info()"
   ]
  },
  {
   "cell_type": "code",
   "execution_count": 4,
   "id": "50fdbb00-a69d-462f-8e7e-a8afb0108fcc",
   "metadata": {},
   "outputs": [
    {
     "data": {
      "text/plain": [
       "Category    object\n",
       "Message     object\n",
       "dtype: object"
      ]
     },
     "execution_count": 4,
     "metadata": {},
     "output_type": "execute_result"
    }
   ],
   "source": [
    "df.dtypes"
   ]
  },
  {
   "cell_type": "code",
   "execution_count": 5,
   "id": "5eae0d30-7fa8-4efd-bb01-1db1cb61008a",
   "metadata": {},
   "outputs": [
    {
     "data": {
      "text/plain": [
       "(5572, 2)"
      ]
     },
     "execution_count": 5,
     "metadata": {},
     "output_type": "execute_result"
    }
   ],
   "source": [
    "df.shape"
   ]
  },
  {
   "cell_type": "code",
   "execution_count": 6,
   "id": "76a6668c-141c-4509-900a-2bae25ff79a4",
   "metadata": {},
   "outputs": [
    {
     "data": {
      "text/plain": [
       "Category    0\n",
       "Message     0\n",
       "dtype: int64"
      ]
     },
     "execution_count": 6,
     "metadata": {},
     "output_type": "execute_result"
    }
   ],
   "source": [
    "df.isnull().sum()"
   ]
  },
  {
   "cell_type": "code",
   "execution_count": 7,
   "id": "9331d004-8baf-4802-95c0-8c2ee4025283",
   "metadata": {},
   "outputs": [],
   "source": [
    "df.rename(columns={'Category': 'label', 'Message': 'message'}, inplace=True)"
   ]
  },
  {
   "cell_type": "code",
   "execution_count": 8,
   "id": "d3052160-77fd-4f9e-8016-8bb7b550c4cd",
   "metadata": {
    "tags": []
   },
   "outputs": [],
   "source": [
    "pie_df = df.groupby('label').count()"
   ]
  },
  {
   "cell_type": "code",
   "execution_count": 9,
   "id": "831604f0-06c7-4be3-9b74-791aafcd80b7",
   "metadata": {},
   "outputs": [
    {
     "data": {
      "text/html": [
       "<div>\n",
       "<style scoped>\n",
       "    .dataframe tbody tr th:only-of-type {\n",
       "        vertical-align: middle;\n",
       "    }\n",
       "\n",
       "    .dataframe tbody tr th {\n",
       "        vertical-align: top;\n",
       "    }\n",
       "\n",
       "    .dataframe thead th {\n",
       "        text-align: right;\n",
       "    }\n",
       "</style>\n",
       "<table border=\"1\" class=\"dataframe\">\n",
       "  <thead>\n",
       "    <tr style=\"text-align: right;\">\n",
       "      <th></th>\n",
       "      <th>label</th>\n",
       "      <th>message</th>\n",
       "    </tr>\n",
       "  </thead>\n",
       "  <tbody>\n",
       "    <tr>\n",
       "      <th>0</th>\n",
       "      <td>ham</td>\n",
       "      <td>Go until jurong point, crazy.. Available only ...</td>\n",
       "    </tr>\n",
       "    <tr>\n",
       "      <th>1</th>\n",
       "      <td>ham</td>\n",
       "      <td>Ok lar... Joking wif u oni...</td>\n",
       "    </tr>\n",
       "    <tr>\n",
       "      <th>2</th>\n",
       "      <td>spam</td>\n",
       "      <td>Free entry in 2 a wkly comp to win FA Cup fina...</td>\n",
       "    </tr>\n",
       "    <tr>\n",
       "      <th>3</th>\n",
       "      <td>ham</td>\n",
       "      <td>U dun say so early hor... U c already then say...</td>\n",
       "    </tr>\n",
       "    <tr>\n",
       "      <th>4</th>\n",
       "      <td>ham</td>\n",
       "      <td>Nah I don't think he goes to usf, he lives aro...</td>\n",
       "    </tr>\n",
       "  </tbody>\n",
       "</table>\n",
       "</div>"
      ],
      "text/plain": [
       "  label                                            message\n",
       "0   ham  Go until jurong point, crazy.. Available only ...\n",
       "1   ham                      Ok lar... Joking wif u oni...\n",
       "2  spam  Free entry in 2 a wkly comp to win FA Cup fina...\n",
       "3   ham  U dun say so early hor... U c already then say...\n",
       "4   ham  Nah I don't think he goes to usf, he lives aro..."
      ]
     },
     "execution_count": 9,
     "metadata": {},
     "output_type": "execute_result"
    }
   ],
   "source": [
    "df.head()"
   ]
  },
  {
   "cell_type": "code",
   "execution_count": 10,
   "id": "bfc7915d-1137-46e2-824f-dab59549bf8d",
   "metadata": {},
   "outputs": [
    {
     "name": "stderr",
     "output_type": "stream",
     "text": [
      "/opt/anaconda3/lib/python3.9/site-packages/seaborn/_decorators.py:36: FutureWarning: Pass the following variable as a keyword arg: x. From version 0.12, the only valid positional argument will be `data`, and passing other arguments without an explicit keyword will result in an error or misinterpretation.\n",
      "  warnings.warn(\n"
     ]
    },
    {
     "data": {
      "text/plain": [
       "<AxesSubplot:xlabel='label', ylabel='count'>"
      ]
     },
     "execution_count": 10,
     "metadata": {},
     "output_type": "execute_result"
    },
    {
     "data": {
      "image/png": "[encoded data removed]",
      "text/plain": [
       "<Figure size 640x480 with 1 Axes>"
      ]
     },
     "metadata": {},
     "output_type": "display_data"
    }
   ],
   "source": [
    "sns.countplot(df['label'])"
   ]
  },
  {
   "cell_type": "code",
   "execution_count": 11,
   "id": "90d365a7-19ab-4f71-bdd5-f49f994d7b28",
   "metadata": {},
   "outputs": [
    {
     "data": {
      "image/png": "[encoded data removed]",
      "text/plain": [
       "<Figure size 640x480 with 1 Axes>"
      ]
     },
     "metadata": {},
     "output_type": "display_data"
    }
   ],
   "source": [
    "data = pie_df['message'].tolist()\n",
    "keys = [\"ham\", \"spam\"]\n",
    "plt.pie(data, labels=keys, autopct='%.0f%%')\n",
    "plt.show()"
   ]
  },
  {
   "cell_type": "code",
   "execution_count": 12,
   "id": "8639b85d-efec-4473-a599-2479f608b486",
   "metadata": {},
   "outputs": [
    {
     "data": {
      "text/html": [
       "<div>\n",
       "<style scoped>\n",
       "    .dataframe tbody tr th:only-of-type {\n",
       "        vertical-align: middle;\n",
       "    }\n",
       "\n",
       "    .dataframe tbody tr th {\n",
       "        vertical-align: top;\n",
       "    }\n",
       "\n",
       "    .dataframe thead th {\n",
       "        text-align: right;\n",
       "    }\n",
       "</style>\n",
       "<table border=\"1\" class=\"dataframe\">\n",
       "  <thead>\n",
       "    <tr style=\"text-align: right;\">\n",
       "      <th></th>\n",
       "      <th>message</th>\n",
       "    </tr>\n",
       "    <tr>\n",
       "      <th>label</th>\n",
       "      <th></th>\n",
       "    </tr>\n",
       "  </thead>\n",
       "  <tbody>\n",
       "    <tr>\n",
       "      <th>ham</th>\n",
       "      <td>4825</td>\n",
       "    </tr>\n",
       "    <tr>\n",
       "      <th>spam</th>\n",
       "      <td>747</td>\n",
       "    </tr>\n",
       "  </tbody>\n",
       "</table>\n",
       "</div>"
      ],
      "text/plain": [
       "       message\n",
       "label         \n",
       "ham       4825\n",
       "spam       747"
      ]
     },
     "execution_count": 12,
     "metadata": {},
     "output_type": "execute_result"
    }
   ],
   "source": [
    "df.groupby('label').count()"
   ]
  },
  {
   "cell_type": "code",
   "execution_count": 13,
   "id": "979c67a6-59d1-4802-bc66-b7be49f15a52",
   "metadata": {},
   "outputs": [],
   "source": [
    "X = df.drop('label', axis=1)"
   ]
  },
  {
   "cell_type": "code",
   "execution_count": 14,
   "id": "2a7bbb1a-16b4-462a-acb0-3d5aed4cba2d",
   "metadata": {},
   "outputs": [],
   "source": [
    "df['label'] = df['label'].apply(lambda data: np.where(data == \"ham\", 1, 0))"
   ]
  },
  {
   "cell_type": "code",
   "execution_count": 15,
   "id": "cb4698d4-fce5-4dc2-9ec9-35ee1cb63ef9",
   "metadata": {},
   "outputs": [],
   "source": [
    "y = df['label']"
   ]
  },
  {
   "cell_type": "code",
   "execution_count": 16,
   "id": "f951b83a-56e5-4021-9ffa-333adb610ea0",
   "metadata": {
    "tags": []
   },
   "outputs": [],
   "source": [
    "# nltk.download('wordnet')\n",
    "# nltk.download('omw-1.4')"
   ]
  },
  {
   "cell_type": "code",
   "execution_count": 17,
   "id": "62a43b27-d9b1-49c5-a92e-39f4a239b336",
   "metadata": {},
   "outputs": [],
   "source": [
    "lemmatizer = WordNetLemmatizer()"
   ]
  },
  {
   "cell_type": "markdown",
   "id": "3dd526f6-e1ed-4627-894a-44d6ccd17399",
   "metadata": {},
   "source": [
    "## Preprocessing"
   ]
  },
  {
   "cell_type": "code",
   "execution_count": 18,
   "id": "4bffb2bb-a472-459a-b681-b301c71f47ed",
   "metadata": {},
   "outputs": [],
   "source": [
    "corpus = []\n",
    "def preprocessing(dataframe)-> List:\n",
    "    \"\"\"\n",
    "    Processes dataframe having one text column.\n",
    "    \n",
    "    Args:\n",
    "        dataframe (Dataframe):\n",
    "            The dataframe where the single text column exists.\n",
    "    Returns:\n",
    "        list:\n",
    "            The list of the processed sentences.\n",
    "    \"\"\"\n",
    "    for i in range(0, len(dataframe)):\n",
    "        review = re.sub('[^a-zA-Z0-9]', ' ', dataframe['message'][i])\n",
    "        review = review.lower()\n",
    "        review = review.split()\n",
    "        review = [lemmatizer.lemmatize(word) for word in review if not word in stopwords.words('english')]\n",
    "        review = ' '.join(review)\n",
    "        corpus.append(review)\n",
    "    # return corpus"
   ]
  },
  {
   "cell_type": "code",
   "execution_count": 19,
   "id": "90ee0df6-915e-4132-800c-b4ed79e4a6df",
   "metadata": {
    "tags": []
   },
   "outputs": [],
   "source": [
    "preprocessing(dataframe=X)"
   ]
  },
  {
   "cell_type": "code",
   "execution_count": 20,
   "id": "639392af-beba-4c37-b348-bc7d79ecc7c7",
   "metadata": {
    "tags": []
   },
   "outputs": [],
   "source": [
    "voc_size = 10000\n",
    "onehot_repr=[tf.keras.preprocessing.text.one_hot(words,voc_size)for words in corpus] "
   ]
  },
  {
   "cell_type": "code",
   "execution_count": 21,
   "id": "75582e24-17bd-4eb0-a886-c1873ca1e0cf",
   "metadata": {},
   "outputs": [
    {
     "name": "stdout",
     "output_type": "stream",
     "text": [
      "78\n"
     ]
    }
   ],
   "source": [
    "max_sentence_length = max([len(each_list) for each_list in onehot_repr])\n",
    "print(max_sentence_length)"
   ]
  },
  {
   "cell_type": "code",
   "execution_count": 22,
   "id": "5ed0a66e-4f13-4aa9-847c-e3e80bc1bc60",
   "metadata": {
    "tags": []
   },
   "outputs": [],
   "source": [
    "embedded_docs=pad_sequences(onehot_repr,padding='pre',maxlen=max_sentence_length)\n",
    "# print(embedded_docs)"
   ]
  },
  {
   "cell_type": "code",
   "execution_count": 23,
   "id": "a50911f6-932b-4989-aee8-ae7fce9ee3ed",
   "metadata": {},
   "outputs": [],
   "source": [
    "X_final=np.array(embedded_docs)\n",
    "y_final=np.array(y)"
   ]
  },
  {
   "cell_type": "code",
   "execution_count": 24,
   "id": "7252a5d0-b185-4e00-aa07-a0f7582cc40e",
   "metadata": {},
   "outputs": [],
   "source": [
    "from sklearn.model_selection import train_test_split\n",
    "X_train, X_test, y_train, y_test = train_test_split(X_final, y_final, test_size=0.33, random_state=42)"
   ]
  },
  {
   "cell_type": "markdown",
   "id": "3407a1a6-f4c6-449e-8699-3b7ab4a77c73",
   "metadata": {},
   "source": [
    "## Logistic Regression for Model Training"
   ]
  },
  {
   "cell_type": "code",
   "execution_count": 25,
   "id": "e3792418-03d8-4a39-a0f4-ff2d8ce71c1c",
   "metadata": {},
   "outputs": [],
   "source": [
    "lr = LogisticRegression(max_iter=50)"
   ]
  },
  {
   "cell_type": "code",
   "execution_count": 26,
   "id": "ea84932a-dd74-488d-b8cd-58ce0a6396b1",
   "metadata": {},
   "outputs": [
    {
     "name": "stderr",
     "output_type": "stream",
     "text": [
      "/opt/anaconda3/lib/python3.9/site-packages/sklearn/linear_model/_logistic.py:444: ConvergenceWarning: lbfgs failed to converge (status=1):\n",
      "STOP: TOTAL NO. of ITERATIONS REACHED LIMIT.\n",
      "\n",
      "Increase the number of iterations (max_iter) or scale the data as shown in:\n",
      "    https://scikit-learn.org/stable/modules/preprocessing.html\n",
      "Please also refer to the documentation for alternative solver options:\n",
      "    https://scikit-learn.org/stable/modules/linear_model.html#logistic-regression\n",
      "  n_iter_i = _check_optimize_result(\n"
     ]
    },
    {
     "data": {
      "text/html": [
       "<style>#sk-container-id-1 {color: black;background-color: white;}#sk-container-id-1 pre{padding: 0;}#sk-container-id-1 div.sk-toggleable {background-color: white;}#sk-container-id-1 label.sk-toggleable__label {cursor: pointer;display: block;width: 100%;margin-bottom: 0;padding: 0.3em;box-sizing: border-box;text-align: center;}#sk-container-id-1 label.sk-toggleable__label-arrow:before {content: \"▸\";float: left;margin-right: 0.25em;color: #696969;}#sk-container-id-1 label.sk-toggleable__label-arrow:hover:before {color: black;}#sk-container-id-1 div.sk-estimator:hover label.sk-toggleable__label-arrow:before {color: black;}#sk-container-id-1 div.sk-toggleable__content {max-height: 0;max-width: 0;overflow: hidden;text-align: left;background-color: #f0f8ff;}#sk-container-id-1 div.sk-toggleable__content pre {margin: 0.2em;color: black;border-radius: 0.25em;background-color: #f0f8ff;}#sk-container-id-1 input.sk-toggleable__control:checked~div.sk-toggleable__content {max-height: 200px;max-width: 100%;overflow: auto;}#sk-container-id-1 input.sk-toggleable__control:checked~label.sk-toggleable__label-arrow:before {content: \"▾\";}#sk-container-id-1 div.sk-estimator input.sk-toggleable__control:checked~label.sk-toggleable__label {background-color: #d4ebff;}#sk-container-id-1 div.sk-label input.sk-toggleable__control:checked~label.sk-toggleable__label {background-color: #d4ebff;}#sk-container-id-1 input.sk-hidden--visually {border: 0;clip: rect(1px 1px 1px 1px);clip: rect(1px, 1px, 1px, 1px);height: 1px;margin: -1px;overflow: hidden;padding: 0;position: absolute;width: 1px;}#sk-container-id-1 div.sk-estimator {font-family: monospace;background-color: #f0f8ff;border: 1px dotted black;border-radius: 0.25em;box-sizing: border-box;margin-bottom: 0.5em;}#sk-container-id-1 div.sk-estimator:hover {background-color: #d4ebff;}#sk-container-id-1 div.sk-parallel-item::after {content: \"\";width: 100%;border-bottom: 1px solid gray;flex-grow: 1;}#sk-container-id-1 div.sk-label:hover label.sk-toggleable__label {background-color: #d4ebff;}#sk-container-id-1 div.sk-serial::before {content: \"\";position: absolute;border-left: 1px solid gray;box-sizing: border-box;top: 0;bottom: 0;left: 50%;z-index: 0;}#sk-container-id-1 div.sk-serial {display: flex;flex-direction: column;align-items: center;background-color: white;padding-right: 0.2em;padding-left: 0.2em;position: relative;}#sk-container-id-1 div.sk-item {position: relative;z-index: 1;}#sk-container-id-1 div.sk-parallel {display: flex;align-items: stretch;justify-content: center;background-color: white;position: relative;}#sk-container-id-1 div.sk-item::before, #sk-container-id-1 div.sk-parallel-item::before {content: \"\";position: absolute;border-left: 1px solid gray;box-sizing: border-box;top: 0;bottom: 0;left: 50%;z-index: -1;}#sk-container-id-1 div.sk-parallel-item {display: flex;flex-direction: column;z-index: 1;position: relative;background-color: white;}#sk-container-id-1 div.sk-parallel-item:first-child::after {align-self: flex-end;width: 50%;}#sk-container-id-1 div.sk-parallel-item:last-child::after {align-self: flex-start;width: 50%;}#sk-container-id-1 div.sk-parallel-item:only-child::after {width: 0;}#sk-container-id-1 div.sk-dashed-wrapped {border: 1px dashed gray;margin: 0 0.4em 0.5em 0.4em;box-sizing: border-box;padding-bottom: 0.4em;background-color: white;}#sk-container-id-1 div.sk-label label {font-family: monospace;font-weight: bold;display: inline-block;line-height: 1.2em;}#sk-container-id-1 div.sk-label-container {text-align: center;}#sk-container-id-1 div.sk-container {/* jupyter's `normalize.less` sets `[hidden] { display: none; }` but bootstrap.min.css set `[hidden] { display: none !important; }` so we also need the `!important` here to be able to override the default hidden behavior on the sphinx rendered scikit-learn.org. See: https://github.com/scikit-learn/scikit-learn/issues/21755 */display: inline-block !important;position: relative;}#sk-container-id-1 div.sk-text-repr-fallback {display: none;}</style><div id=\"sk-container-id-1\" class=\"sk-top-container\"><div class=\"sk-text-repr-fallback\"><pre>LogisticRegression(max_iter=50)</pre><b>In a Jupyter environment, please rerun this cell to show the HTML representation or trust the notebook. <br />On GitHub, the HTML representation is unable to render, please try loading this page with nbviewer.org.</b></div><div class=\"sk-container\" hidden><div class=\"sk-item\"><div class=\"sk-estimator sk-toggleable\"><input class=\"sk-toggleable__control sk-hidden--visually\" id=\"sk-estimator-id-1\" type=\"checkbox\" checked><label for=\"sk-estimator-id-1\" class=\"sk-toggleable__label sk-toggleable__label-arrow\">LogisticRegression</label><div class=\"sk-toggleable__content\"><pre>LogisticRegression(max_iter=50)</pre></div></div></div></div></div>"
      ],
      "text/plain": [
       "LogisticRegression(max_iter=50)"
      ]
     },
     "execution_count": 26,
     "metadata": {},
     "output_type": "execute_result"
    }
   ],
   "source": [
    "lr.fit(X_train, y_train)"
   ]
  },
  {
   "cell_type": "code",
   "execution_count": 27,
   "id": "defd00b4-a0fd-4c90-83f7-7c475d110049",
   "metadata": {},
   "outputs": [],
   "source": [
    "y_pred=lr.predict(X_test)"
   ]
  },
  {
   "cell_type": "code",
   "execution_count": 28,
   "id": "634b60e9-f146-4193-9c8c-fbdbd21fb7ec",
   "metadata": {},
   "outputs": [],
   "source": [
    "y_pred=np.where(y_pred > 0.6, 1, 0)"
   ]
  },
  {
   "cell_type": "code",
   "execution_count": 29,
   "id": "03d777fc-fda1-4c83-9a79-d2b5b3c8f32f",
   "metadata": {},
   "outputs": [
    {
     "data": {
      "text/plain": [
       "array([[  91,  155],\n",
       "       [  90, 1503]])"
      ]
     },
     "execution_count": 29,
     "metadata": {},
     "output_type": "execute_result"
    }
   ],
   "source": [
    "confusion_matrix(y_test,y_pred)"
   ]
  },
  {
   "cell_type": "code",
   "execution_count": 30,
   "id": "c77de56c-e50d-46fb-9c02-e6257c074a6f",
   "metadata": {},
   "outputs": [],
   "source": [
    "accuracy_list = []\n",
    "logistic_regr_accuracy = accuracy_score(y_test,y_pred)\n",
    "accuracy_list.append(logistic_regr_accuracy)"
   ]
  },
  {
   "cell_type": "code",
   "execution_count": 31,
   "id": "4479b2c9-3efb-468b-a6d1-090151128db4",
   "metadata": {},
   "outputs": [
    {
     "name": "stdout",
     "output_type": "stream",
     "text": [
      "              precision    recall  f1-score   support\n",
      "\n",
      "           0       0.50      0.37      0.43       246\n",
      "           1       0.91      0.94      0.92      1593\n",
      "\n",
      "    accuracy                           0.87      1839\n",
      "   macro avg       0.70      0.66      0.68      1839\n",
      "weighted avg       0.85      0.87      0.86      1839\n",
      "\n"
     ]
    }
   ],
   "source": [
    "print(classification_report(y_test,y_pred))"
   ]
  },
  {
   "cell_type": "markdown",
   "id": "f1c52aeb-7a20-4949-9a5e-2ae955af365b",
   "metadata": {},
   "source": [
    "## RNN LSTM for Model Training"
   ]
  },
  {
   "cell_type": "code",
   "execution_count": 32,
   "id": "f2e737d2-28e3-4a4b-b32e-8a0ef9f8d378",
   "metadata": {},
   "outputs": [
    {
     "name": "stderr",
     "output_type": "stream",
     "text": [
      "2022-09-11 16:49:15.695651: W tensorflow/stream_executor/platform/default/dso_loader.cc:64] Could not load dynamic library 'libcuda.so.1'; dlerror: libcuda.so.1: cannot open shared object file: No such file or directory\n",
      "2022-09-11 16:49:15.695680: W tensorflow/stream_executor/cuda/cuda_driver.cc:269] failed call to cuInit: UNKNOWN ERROR (303)\n",
      "2022-09-11 16:49:15.695699: I tensorflow/stream_executor/cuda/cuda_diagnostics.cc:156] kernel driver does not appear to be running on this host (9a8ac46af200): /proc/driver/nvidia/version does not exist\n",
      "2022-09-11 16:49:15.695967: I tensorflow/core/platform/cpu_feature_guard.cc:193] This TensorFlow binary is optimized with oneAPI Deep Neural Network Library (oneDNN) to use the following CPU instructions in performance-critical operations:  AVX2 FMA\n",
      "To enable them in other operations, rebuild TensorFlow with the appropriate compiler flags.\n"
     ]
    },
    {
     "name": "stdout",
     "output_type": "stream",
     "text": [
      "Model: \"sequential\"\n",
      "_________________________________________________________________\n",
      " Layer (type)                Output Shape              Param #   \n",
      "=================================================================\n",
      " embedding (Embedding)       (None, 78, 300)           3000000   \n",
      "                                                                 \n",
      " dropout (Dropout)           (None, 78, 300)           0         \n",
      "                                                                 \n",
      " lstm (LSTM)                 (None, 100)               160400    \n",
      "                                                                 \n",
      " dropout_1 (Dropout)         (None, 100)               0         \n",
      "                                                                 \n",
      " dense (Dense)               (None, 1)                 101       \n",
      "                                                                 \n",
      "=================================================================\n",
      "Total params: 3,160,501\n",
      "Trainable params: 3,160,501\n",
      "Non-trainable params: 0\n",
      "_________________________________________________________________\n",
      "None\n"
     ]
    }
   ],
   "source": [
    "## Creating model\n",
    "embedding_vector_features=300 ##features representation\n",
    "model=Sequential()\n",
    "model.add(Embedding(voc_size,embedding_vector_features,input_length=max_sentence_length))\n",
    "model.add(Dropout(0.2))\n",
    "model.add(LSTM(100))\n",
    "model.add(Dropout(0.2))\n",
    "model.add(Dense(1,activation='sigmoid'))\n",
    "model.compile(loss='binary_crossentropy',optimizer='adam',metrics=['accuracy'])\n",
    "print(model.summary())"
   ]
  },
  {
   "cell_type": "code",
   "execution_count": 33,
   "id": "25820f18-f423-4b69-b484-3039b8638c95",
   "metadata": {},
   "outputs": [
    {
     "name": "stdout",
     "output_type": "stream",
     "text": [
      "Epoch 1/100\n",
      "117/117 [==============================] - 8s 56ms/step - loss: 0.1500 - accuracy: 0.9494 - val_loss: 0.0530 - val_accuracy: 0.9853\n",
      "Epoch 2/100\n",
      "117/117 [==============================] - 6s 54ms/step - loss: 0.0251 - accuracy: 0.9936 - val_loss: 0.0417 - val_accuracy: 0.9880\n",
      "Epoch 3/100\n",
      "117/117 [==============================] - 6s 54ms/step - loss: 0.0093 - accuracy: 0.9976 - val_loss: 0.0540 - val_accuracy: 0.9853\n",
      "Epoch 4/100\n",
      "117/117 [==============================] - 6s 52ms/step - loss: 0.0041 - accuracy: 0.9992 - val_loss: 0.0507 - val_accuracy: 0.9880\n",
      "Epoch 5/100\n",
      "117/117 [==============================] - 6s 51ms/step - loss: 0.0024 - accuracy: 0.9995 - val_loss: 0.0488 - val_accuracy: 0.9869\n",
      "Epoch 6/100\n",
      "117/117 [==============================] - 6s 52ms/step - loss: 0.0014 - accuracy: 0.9997 - val_loss: 0.0492 - val_accuracy: 0.9880\n",
      "Epoch 7/100\n",
      "117/117 [==============================] - 6s 52ms/step - loss: 9.1455e-04 - accuracy: 0.9997 - val_loss: 0.0519 - val_accuracy: 0.9886\n",
      "Epoch 8/100\n",
      "117/117 [==============================] - 6s 52ms/step - loss: 5.1066e-04 - accuracy: 0.9997 - val_loss: 0.0543 - val_accuracy: 0.9902\n",
      "Epoch 9/100\n",
      "117/117 [==============================] - 6s 52ms/step - loss: 1.6415e-04 - accuracy: 1.0000 - val_loss: 0.0586 - val_accuracy: 0.9902\n",
      "Epoch 10/100\n",
      "117/117 [==============================] - 6s 54ms/step - loss: 2.3664e-04 - accuracy: 1.0000 - val_loss: 0.0583 - val_accuracy: 0.9908\n",
      "Epoch 11/100\n",
      "117/117 [==============================] - 6s 52ms/step - loss: 1.2855e-04 - accuracy: 1.0000 - val_loss: 0.0610 - val_accuracy: 0.9897\n",
      "Epoch 12/100\n",
      "117/117 [==============================] - 6s 52ms/step - loss: 8.1517e-05 - accuracy: 1.0000 - val_loss: 0.0646 - val_accuracy: 0.9902\n",
      "Epoch 13/100\n",
      "117/117 [==============================] - 6s 52ms/step - loss: 4.4323e-05 - accuracy: 1.0000 - val_loss: 0.0674 - val_accuracy: 0.9897\n",
      "Epoch 14/100\n",
      "117/117 [==============================] - 6s 50ms/step - loss: 9.3910e-05 - accuracy: 1.0000 - val_loss: 0.0670 - val_accuracy: 0.9902\n",
      "Epoch 15/100\n",
      "117/117 [==============================] - 6s 51ms/step - loss: 3.4174e-05 - accuracy: 1.0000 - val_loss: 0.0697 - val_accuracy: 0.9902\n",
      "Epoch 16/100\n",
      "117/117 [==============================] - 6s 51ms/step - loss: 3.4434e-05 - accuracy: 1.0000 - val_loss: 0.0708 - val_accuracy: 0.9902\n",
      "Epoch 17/100\n",
      "117/117 [==============================] - 6s 52ms/step - loss: 2.0271e-05 - accuracy: 1.0000 - val_loss: 0.0726 - val_accuracy: 0.9897\n",
      "Epoch 18/100\n",
      "117/117 [==============================] - 6s 51ms/step - loss: 2.0732e-05 - accuracy: 1.0000 - val_loss: 0.0741 - val_accuracy: 0.9902\n",
      "Epoch 19/100\n",
      "117/117 [==============================] - 6s 50ms/step - loss: 2.1780e-05 - accuracy: 1.0000 - val_loss: 0.0752 - val_accuracy: 0.9902\n",
      "Epoch 20/100\n",
      "117/117 [==============================] - 6s 50ms/step - loss: 2.3289e-05 - accuracy: 1.0000 - val_loss: 0.0769 - val_accuracy: 0.9897\n"
     ]
    },
    {
     "data": {
      "text/plain": [
       "<keras.callbacks.History at 0x7f1848415460>"
      ]
     },
     "execution_count": 33,
     "metadata": {},
     "output_type": "execute_result"
    }
   ],
   "source": [
    "### Training\n",
    "callback = tf.keras.callbacks.EarlyStopping(monitor='loss', patience=3, mode=\"min\")\n",
    "model.fit(X_train,y_train,validation_data=(X_test,y_test),epochs=100, callbacks=[callback])"
   ]
  },
  {
   "cell_type": "code",
   "execution_count": 35,
   "id": "1555c30d-eabc-414d-bcc1-9f9026a2eab4",
   "metadata": {},
   "outputs": [
    {
     "name": "stdout",
     "output_type": "stream",
     "text": [
      "58/58 [==============================] - 1s 12ms/step\n"
     ]
    }
   ],
   "source": [
    "y_pred=model.predict(X_test)"
   ]
  },
  {
   "cell_type": "code",
   "execution_count": 36,
   "id": "df38dfbe-3e27-4885-a268-8547d63fd1a1",
   "metadata": {},
   "outputs": [],
   "source": [
    "y_pred=np.where(y_pred > 0.6, 1, 0)"
   ]
  },
  {
   "cell_type": "code",
   "execution_count": 37,
   "id": "8f80b969-5d99-4d03-95ff-f2471ae6eca6",
   "metadata": {},
   "outputs": [
    {
     "data": {
      "text/plain": [
       "array([[ 237,    9],\n",
       "       [   9, 1584]])"
      ]
     },
     "execution_count": 37,
     "metadata": {},
     "output_type": "execute_result"
    }
   ],
   "source": [
    "confusion_matrix(y_test,y_pred)"
   ]
  },
  {
   "cell_type": "code",
   "execution_count": 38,
   "id": "93f2eb22-ef49-4f1a-a210-76bbb4d2facf",
   "metadata": {},
   "outputs": [],
   "source": [
    "lstm_accuracy = accuracy_score(y_test,y_pred)\n",
    "accuracy_list.append(lstm_accuracy)"
   ]
  },
  {
   "cell_type": "code",
   "execution_count": 39,
   "id": "1b5db5f5-caa7-48f7-8d2d-7dbff58ebc91",
   "metadata": {},
   "outputs": [
    {
     "name": "stdout",
     "output_type": "stream",
     "text": [
      "              precision    recall  f1-score   support\n",
      "\n",
      "           0       0.96      0.96      0.96       246\n",
      "           1       0.99      0.99      0.99      1593\n",
      "\n",
      "    accuracy                           0.99      1839\n",
      "   macro avg       0.98      0.98      0.98      1839\n",
      "weighted avg       0.99      0.99      0.99      1839\n",
      "\n"
     ]
    }
   ],
   "source": [
    "print(classification_report(y_test,y_pred))"
   ]
  },
  {
   "cell_type": "code",
   "execution_count": 40,
   "id": "777fb7c9-769b-487c-bbcc-c98b3843cc94",
   "metadata": {},
   "outputs": [],
   "source": [
    "accuracy_list = [round(element * 100, 2) for element in accuracy_list]"
   ]
  },
  {
   "cell_type": "code",
   "execution_count": 41,
   "id": "3a0ea283-693b-48f7-9860-5941a34e34bc",
   "metadata": {},
   "outputs": [
    {
     "data": {
      "text/plain": [
       "[86.68, 99.02]"
      ]
     },
     "execution_count": 41,
     "metadata": {},
     "output_type": "execute_result"
    }
   ],
   "source": [
    "accuracy_list"
   ]
  },
  {
   "cell_type": "code",
   "execution_count": 42,
   "id": "c8d6027f-8dc2-48bf-9236-ee3b855a6e93",
   "metadata": {},
   "outputs": [
    {
     "data": {
      "image/png": "[encoded data removed]",
      "text/plain": [
       "<Figure size 400x700 with 1 Axes>"
      ]
     },
     "metadata": {},
     "output_type": "display_data"
    }
   ],
   "source": [
    "sns.set_theme(style=\"whitegrid\")\n",
    "\n",
    "# Initialize the matplotlib figure\n",
    "f, ax = plt.subplots(figsize=(4, 7))\n",
    "sns.set_color_codes(\"deep\")\n",
    "sns.barplot(x=[\"Logistic Regression\", \"LSTM RNN\"], y=accuracy_list, color=\"r\")\n",
    "plt.show()"
   ]
  },
  {
   "cell_type": "code",
   "execution_count": 43,
   "id": "78f55c22-3e03-41cf-bd58-af205a9e013b",
   "metadata": {},
   "outputs": [],
   "source": [
    "# Saving LSTM RNN model\n",
    "model.save('SpamClassifier.h5')"
   ]
  },
  {
   "cell_type": "code",
   "execution_count": null,
   "id": "63a3ea1f-1e1c-4415-8e9f-3c08d47aba12",
   "metadata": {},
   "outputs": [],
   "source": []
  }
 ],
 "metadata": {
  "kernelspec": {
   "display_name": "Python 3 (ipykernel)",
   "language": "python",
   "name": "python3"
  },
  "language_info": {
   "codemirror_mode": {
    "name": "ipython",
    "version": 3
   },
   "file_extension": ".py",
   "mimetype": "text/x-python",
   "name": "python",
   "nbconvert_exporter": "python",
   "pygments_lexer": "ipython3",
   "version": "3.9.12"
  }
 },
 "nbformat": 4,
 "nbformat_minor": 5
}
